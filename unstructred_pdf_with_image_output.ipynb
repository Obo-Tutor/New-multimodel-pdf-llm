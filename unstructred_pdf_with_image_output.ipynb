{
 "cells": [
  {
   "cell_type": "code",
   "execution_count": 32,
   "metadata": {},
   "outputs": [],
   "source": [
    "import os\n",
    "import uuid\n",
    "import base64\n",
    "from IPython import display\n",
    "from unstructured.partition.pdf import partition_pdf\n",
    "from langchain.chat_models import ChatOpenAI\n",
    "from langchain.embeddings import OpenAIEmbeddings\n",
    "from langchain.prompts import PromptTemplate\n",
    "from langchain.schema.messages import HumanMessage, SystemMessage\n",
    "from langchain.schema.document import Document\n",
    "from langchain.retrievers.multi_vector import MultiVectorRetriever\n",
    "from langchain_google_genai import ChatGoogleGenerativeAI\n",
    "from langchain_core.messages import HumanMessage, SystemMessage\n",
    "from langchain_google_genai import GoogleGenerativeAIEmbeddings\n",
    "from langchain_core.prompts import ChatPromptTemplate\n",
    "from langchain_core.output_parsers import StrOutputParser\n",
    "from langchain_community.vectorstores import Chroma\n",
    "from langchain.chains import LLMChain\n",
    "from langchain_community.document_loaders import PyPDFLoader\n",
    "from langchain.text_splitter import RecursiveCharacterTextSplitter\n",
    "from openai import OpenAI\n",
    "\n",
    "from IPython import display\n",
    "\n",
    "from dotenv import load_dotenv\n"
   ]
  },
  {
   "cell_type": "code",
   "execution_count": 33,
   "metadata": {},
   "outputs": [
    {
     "data": {
      "text/plain": [
       "True"
      ]
     },
     "execution_count": 33,
     "metadata": {},
     "output_type": "execute_result"
    }
   ],
   "source": [
    "load_dotenv()"
   ]
  },
  {
   "cell_type": "code",
   "execution_count": 30,
   "metadata": {},
   "outputs": [],
   "source": [
    "os.environ['OPENAI_API_KEY']=os.getenv(\"OPENAI_API_KEY\")"
   ]
  },
  {
   "cell_type": "code",
   "execution_count": 34,
   "metadata": {},
   "outputs": [
    {
     "data": {
      "text/plain": [
       "'sk-proj-wrUaZtPR4Re7jQhJj7foT3BlbkFJjb2akhjXkKdQRYYd9V6i'"
      ]
     },
     "execution_count": 34,
     "metadata": {},
     "output_type": "execute_result"
    }
   ],
   "source": [
    "os.getenv(\"OPENAI_API_KEY\")"
   ]
  },
  {
   "cell_type": "code",
   "execution_count": 20,
   "metadata": {},
   "outputs": [],
   "source": [
    "text_model =  ChatOpenAI(\n",
    "    model=\"gpt-4o-mini\",\n",
    "    temperature=0.5,\n",
    "    max_tokens=1500,\n",
    ")"
   ]
  },
  {
   "cell_type": "code",
   "execution_count": 21,
   "metadata": {},
   "outputs": [],
   "source": [
    "def extract_images_and_tables_from_unstructured_pdf(pdf_path,output_path):\n",
    "    # Load the PDF file\n",
    "    raw_pdf_elements=partition_pdf(\n",
    "    filename=pdf_path,                  \n",
    "    strategy=\"hi_res\",                                \n",
    "    extract_images_in_pdf=True,                      \n",
    "    extract_image_block_types=[\"Image\", \"Table\"],          \n",
    "    extract_image_block_to_payload=False,                  \n",
    "    extract_image_block_output_dir=output_path, \n",
    "    )\n",
    "    \n",
    "    img=[]\n",
    "    for element in raw_pdf_elements:\n",
    "        if \"unstructured.documents.elements.Image\" in str(type(element)):\n",
    "            img.append(str(element))\n",
    "\n",
    "    tab=[]\n",
    "    for element in raw_pdf_elements:\n",
    "        if \"unstructured.documents.elements.Table\" in str(type(element)):\n",
    "            tab.append(str(element))\n",
    "\n",
    "    return img,tab\n"
   ]
  },
  {
   "cell_type": "code",
   "execution_count": 22,
   "metadata": {},
   "outputs": [],
   "source": [
    "\n",
    "def encode_image(image_path):\n",
    "    with open(image_path, \"rb\") as f:\n",
    "        return base64.b64encode(f.read()).decode('utf-8')"
   ]
  },
  {
   "cell_type": "code",
   "execution_count": 23,
   "metadata": {},
   "outputs": [],
   "source": [
    "def summarize_image(encode_image , model):\n",
    "    response = client.chat.t"
   ]
  },
  {
   "cell_type": "code",
   "execution_count": 24,
   "metadata": {},
   "outputs": [],
   "source": [
    "def summarize_image(encoded_image, vision_model):\n",
    "    prompt = \"\"\"You are an assistant tasked with summarizing images for retrieval. \\\n",
    "    These summaries will be embedded and used to retrieve the raw image. \\\n",
    "    Give a concise summary of the image that is well optimized for retrieval.\"\"\"\n",
    "\n",
    "    msg = [\n",
    "        HumanMessage(content=[\n",
    "            {\n",
    "                \"type\": \"text\",\n",
    "                \"text\": prompt\n",
    "            },\n",
    "            {\n",
    "                \"type\": \"image_url\",\n",
    "                \"image_url\": {\n",
    "                    \"url\": f\"data:image/jpeg;base64,{encoded_image}\"\n",
    "                },\n",
    "            },\n",
    "        ])\n",
    "    ]\n",
    "    response = vision_model.invoke(msg)\n",
    "    return response.content"
   ]
  },
  {
   "cell_type": "code",
   "execution_count": 25,
   "metadata": {},
   "outputs": [],
   "source": [
    "encoded_image = encode_image(\"Capture6.PNG\")"
   ]
  },
  {
   "cell_type": "code",
   "execution_count": 26,
   "metadata": {},
   "outputs": [
    {
     "ename": "AuthenticationError",
     "evalue": "Error code: 401 - {'error': {'message': 'Incorrect API key provided: sk-proj-********************************************9V6i. You can find your API key at https://platform.openai.com/account/api-keys.', 'type': 'invalid_request_error', 'param': None, 'code': 'invalid_api_key'}}",
     "output_type": "error",
     "traceback": [
      "\u001b[1;31m---------------------------------------------------------------------------\u001b[0m",
      "\u001b[1;31mAuthenticationError\u001b[0m                       Traceback (most recent call last)",
      "Cell \u001b[1;32mIn[26], line 1\u001b[0m\n\u001b[1;32m----> 1\u001b[0m response \u001b[38;5;241m=\u001b[39m \u001b[43msummarize_image\u001b[49m\u001b[43m(\u001b[49m\u001b[43mencoded_image\u001b[49m\u001b[43m,\u001b[49m\u001b[43m \u001b[49m\u001b[43mtext_model\u001b[49m\u001b[43m)\u001b[49m\n",
      "Cell \u001b[1;32mIn[24], line 20\u001b[0m, in \u001b[0;36msummarize_image\u001b[1;34m(encoded_image, vision_model)\u001b[0m\n\u001b[0;32m      2\u001b[0m prompt \u001b[38;5;241m=\u001b[39m \u001b[38;5;124m\"\"\"\u001b[39m\u001b[38;5;124mYou are an assistant tasked with summarizing images for retrieval. \u001b[39m\u001b[38;5;130;01m\\\u001b[39;00m\n\u001b[0;32m      3\u001b[0m \u001b[38;5;124mThese summaries will be embedded and used to retrieve the raw image. \u001b[39m\u001b[38;5;130;01m\\\u001b[39;00m\n\u001b[0;32m      4\u001b[0m \u001b[38;5;124mGive a concise summary of the image that is well optimized for retrieval.\u001b[39m\u001b[38;5;124m\"\"\"\u001b[39m\n\u001b[0;32m      6\u001b[0m msg \u001b[38;5;241m=\u001b[39m [\n\u001b[0;32m      7\u001b[0m     HumanMessage(content\u001b[38;5;241m=\u001b[39m[\n\u001b[0;32m      8\u001b[0m         {\n\u001b[1;32m   (...)\u001b[0m\n\u001b[0;32m     18\u001b[0m     ])\n\u001b[0;32m     19\u001b[0m ]\n\u001b[1;32m---> 20\u001b[0m response \u001b[38;5;241m=\u001b[39m \u001b[43mvision_model\u001b[49m\u001b[38;5;241;43m.\u001b[39;49m\u001b[43minvoke\u001b[49m\u001b[43m(\u001b[49m\u001b[43mmsg\u001b[49m\u001b[43m)\u001b[49m\n\u001b[0;32m     21\u001b[0m \u001b[38;5;28;01mreturn\u001b[39;00m response\u001b[38;5;241m.\u001b[39mcontent\n",
      "File \u001b[1;32md:\\Documnets\\ML\\LLM\\New-multimodel-pdf-llm\\env\\Lib\\site-packages\\langchain_core\\language_models\\chat_models.py:248\u001b[0m, in \u001b[0;36mBaseChatModel.invoke\u001b[1;34m(self, input, config, stop, **kwargs)\u001b[0m\n\u001b[0;32m    237\u001b[0m \u001b[38;5;28;01mdef\u001b[39;00m \u001b[38;5;21minvoke\u001b[39m(\n\u001b[0;32m    238\u001b[0m     \u001b[38;5;28mself\u001b[39m,\n\u001b[0;32m    239\u001b[0m     \u001b[38;5;28minput\u001b[39m: LanguageModelInput,\n\u001b[1;32m   (...)\u001b[0m\n\u001b[0;32m    243\u001b[0m     \u001b[38;5;241m*\u001b[39m\u001b[38;5;241m*\u001b[39mkwargs: Any,\n\u001b[0;32m    244\u001b[0m ) \u001b[38;5;241m-\u001b[39m\u001b[38;5;241m>\u001b[39m BaseMessage:\n\u001b[0;32m    245\u001b[0m     config \u001b[38;5;241m=\u001b[39m ensure_config(config)\n\u001b[0;32m    246\u001b[0m     \u001b[38;5;28;01mreturn\u001b[39;00m cast(\n\u001b[0;32m    247\u001b[0m         ChatGeneration,\n\u001b[1;32m--> 248\u001b[0m         \u001b[38;5;28;43mself\u001b[39;49m\u001b[38;5;241;43m.\u001b[39;49m\u001b[43mgenerate_prompt\u001b[49m\u001b[43m(\u001b[49m\n\u001b[0;32m    249\u001b[0m \u001b[43m            \u001b[49m\u001b[43m[\u001b[49m\u001b[38;5;28;43mself\u001b[39;49m\u001b[38;5;241;43m.\u001b[39;49m\u001b[43m_convert_input\u001b[49m\u001b[43m(\u001b[49m\u001b[38;5;28;43minput\u001b[39;49m\u001b[43m)\u001b[49m\u001b[43m]\u001b[49m\u001b[43m,\u001b[49m\n\u001b[0;32m    250\u001b[0m \u001b[43m            \u001b[49m\u001b[43mstop\u001b[49m\u001b[38;5;241;43m=\u001b[39;49m\u001b[43mstop\u001b[49m\u001b[43m,\u001b[49m\n\u001b[0;32m    251\u001b[0m \u001b[43m            \u001b[49m\u001b[43mcallbacks\u001b[49m\u001b[38;5;241;43m=\u001b[39;49m\u001b[43mconfig\u001b[49m\u001b[38;5;241;43m.\u001b[39;49m\u001b[43mget\u001b[49m\u001b[43m(\u001b[49m\u001b[38;5;124;43m\"\u001b[39;49m\u001b[38;5;124;43mcallbacks\u001b[39;49m\u001b[38;5;124;43m\"\u001b[39;49m\u001b[43m)\u001b[49m\u001b[43m,\u001b[49m\n\u001b[0;32m    252\u001b[0m \u001b[43m            \u001b[49m\u001b[43mtags\u001b[49m\u001b[38;5;241;43m=\u001b[39;49m\u001b[43mconfig\u001b[49m\u001b[38;5;241;43m.\u001b[39;49m\u001b[43mget\u001b[49m\u001b[43m(\u001b[49m\u001b[38;5;124;43m\"\u001b[39;49m\u001b[38;5;124;43mtags\u001b[39;49m\u001b[38;5;124;43m\"\u001b[39;49m\u001b[43m)\u001b[49m\u001b[43m,\u001b[49m\n\u001b[0;32m    253\u001b[0m \u001b[43m            \u001b[49m\u001b[43mmetadata\u001b[49m\u001b[38;5;241;43m=\u001b[39;49m\u001b[43mconfig\u001b[49m\u001b[38;5;241;43m.\u001b[39;49m\u001b[43mget\u001b[49m\u001b[43m(\u001b[49m\u001b[38;5;124;43m\"\u001b[39;49m\u001b[38;5;124;43mmetadata\u001b[39;49m\u001b[38;5;124;43m\"\u001b[39;49m\u001b[43m)\u001b[49m\u001b[43m,\u001b[49m\n\u001b[0;32m    254\u001b[0m \u001b[43m            \u001b[49m\u001b[43mrun_name\u001b[49m\u001b[38;5;241;43m=\u001b[39;49m\u001b[43mconfig\u001b[49m\u001b[38;5;241;43m.\u001b[39;49m\u001b[43mget\u001b[49m\u001b[43m(\u001b[49m\u001b[38;5;124;43m\"\u001b[39;49m\u001b[38;5;124;43mrun_name\u001b[39;49m\u001b[38;5;124;43m\"\u001b[39;49m\u001b[43m)\u001b[49m\u001b[43m,\u001b[49m\n\u001b[0;32m    255\u001b[0m \u001b[43m            \u001b[49m\u001b[43mrun_id\u001b[49m\u001b[38;5;241;43m=\u001b[39;49m\u001b[43mconfig\u001b[49m\u001b[38;5;241;43m.\u001b[39;49m\u001b[43mpop\u001b[49m\u001b[43m(\u001b[49m\u001b[38;5;124;43m\"\u001b[39;49m\u001b[38;5;124;43mrun_id\u001b[39;49m\u001b[38;5;124;43m\"\u001b[39;49m\u001b[43m,\u001b[49m\u001b[43m \u001b[49m\u001b[38;5;28;43;01mNone\u001b[39;49;00m\u001b[43m)\u001b[49m\u001b[43m,\u001b[49m\n\u001b[0;32m    256\u001b[0m \u001b[43m            \u001b[49m\u001b[38;5;241;43m*\u001b[39;49m\u001b[38;5;241;43m*\u001b[39;49m\u001b[43mkwargs\u001b[49m\u001b[43m,\u001b[49m\n\u001b[0;32m    257\u001b[0m \u001b[43m        \u001b[49m\u001b[43m)\u001b[49m\u001b[38;5;241m.\u001b[39mgenerations[\u001b[38;5;241m0\u001b[39m][\u001b[38;5;241m0\u001b[39m],\n\u001b[0;32m    258\u001b[0m     )\u001b[38;5;241m.\u001b[39mmessage\n",
      "File \u001b[1;32md:\\Documnets\\ML\\LLM\\New-multimodel-pdf-llm\\env\\Lib\\site-packages\\langchain_core\\language_models\\chat_models.py:677\u001b[0m, in \u001b[0;36mBaseChatModel.generate_prompt\u001b[1;34m(self, prompts, stop, callbacks, **kwargs)\u001b[0m\n\u001b[0;32m    669\u001b[0m \u001b[38;5;28;01mdef\u001b[39;00m \u001b[38;5;21mgenerate_prompt\u001b[39m(\n\u001b[0;32m    670\u001b[0m     \u001b[38;5;28mself\u001b[39m,\n\u001b[0;32m    671\u001b[0m     prompts: List[PromptValue],\n\u001b[1;32m   (...)\u001b[0m\n\u001b[0;32m    674\u001b[0m     \u001b[38;5;241m*\u001b[39m\u001b[38;5;241m*\u001b[39mkwargs: Any,\n\u001b[0;32m    675\u001b[0m ) \u001b[38;5;241m-\u001b[39m\u001b[38;5;241m>\u001b[39m LLMResult:\n\u001b[0;32m    676\u001b[0m     prompt_messages \u001b[38;5;241m=\u001b[39m [p\u001b[38;5;241m.\u001b[39mto_messages() \u001b[38;5;28;01mfor\u001b[39;00m p \u001b[38;5;129;01min\u001b[39;00m prompts]\n\u001b[1;32m--> 677\u001b[0m     \u001b[38;5;28;01mreturn\u001b[39;00m \u001b[38;5;28;43mself\u001b[39;49m\u001b[38;5;241;43m.\u001b[39;49m\u001b[43mgenerate\u001b[49m\u001b[43m(\u001b[49m\u001b[43mprompt_messages\u001b[49m\u001b[43m,\u001b[49m\u001b[43m \u001b[49m\u001b[43mstop\u001b[49m\u001b[38;5;241;43m=\u001b[39;49m\u001b[43mstop\u001b[49m\u001b[43m,\u001b[49m\u001b[43m \u001b[49m\u001b[43mcallbacks\u001b[49m\u001b[38;5;241;43m=\u001b[39;49m\u001b[43mcallbacks\u001b[49m\u001b[43m,\u001b[49m\u001b[43m \u001b[49m\u001b[38;5;241;43m*\u001b[39;49m\u001b[38;5;241;43m*\u001b[39;49m\u001b[43mkwargs\u001b[49m\u001b[43m)\u001b[49m\n",
      "File \u001b[1;32md:\\Documnets\\ML\\LLM\\New-multimodel-pdf-llm\\env\\Lib\\site-packages\\langchain_core\\language_models\\chat_models.py:534\u001b[0m, in \u001b[0;36mBaseChatModel.generate\u001b[1;34m(self, messages, stop, callbacks, tags, metadata, run_name, run_id, **kwargs)\u001b[0m\n\u001b[0;32m    532\u001b[0m         \u001b[38;5;28;01mif\u001b[39;00m run_managers:\n\u001b[0;32m    533\u001b[0m             run_managers[i]\u001b[38;5;241m.\u001b[39mon_llm_error(e, response\u001b[38;5;241m=\u001b[39mLLMResult(generations\u001b[38;5;241m=\u001b[39m[]))\n\u001b[1;32m--> 534\u001b[0m         \u001b[38;5;28;01mraise\u001b[39;00m e\n\u001b[0;32m    535\u001b[0m flattened_outputs \u001b[38;5;241m=\u001b[39m [\n\u001b[0;32m    536\u001b[0m     LLMResult(generations\u001b[38;5;241m=\u001b[39m[res\u001b[38;5;241m.\u001b[39mgenerations], llm_output\u001b[38;5;241m=\u001b[39mres\u001b[38;5;241m.\u001b[39mllm_output)  \u001b[38;5;66;03m# type: ignore[list-item]\u001b[39;00m\n\u001b[0;32m    537\u001b[0m     \u001b[38;5;28;01mfor\u001b[39;00m res \u001b[38;5;129;01min\u001b[39;00m results\n\u001b[0;32m    538\u001b[0m ]\n\u001b[0;32m    539\u001b[0m llm_output \u001b[38;5;241m=\u001b[39m \u001b[38;5;28mself\u001b[39m\u001b[38;5;241m.\u001b[39m_combine_llm_outputs([res\u001b[38;5;241m.\u001b[39mllm_output \u001b[38;5;28;01mfor\u001b[39;00m res \u001b[38;5;129;01min\u001b[39;00m results])\n",
      "File \u001b[1;32md:\\Documnets\\ML\\LLM\\New-multimodel-pdf-llm\\env\\Lib\\site-packages\\langchain_core\\language_models\\chat_models.py:524\u001b[0m, in \u001b[0;36mBaseChatModel.generate\u001b[1;34m(self, messages, stop, callbacks, tags, metadata, run_name, run_id, **kwargs)\u001b[0m\n\u001b[0;32m    521\u001b[0m \u001b[38;5;28;01mfor\u001b[39;00m i, m \u001b[38;5;129;01min\u001b[39;00m \u001b[38;5;28menumerate\u001b[39m(messages):\n\u001b[0;32m    522\u001b[0m     \u001b[38;5;28;01mtry\u001b[39;00m:\n\u001b[0;32m    523\u001b[0m         results\u001b[38;5;241m.\u001b[39mappend(\n\u001b[1;32m--> 524\u001b[0m             \u001b[38;5;28;43mself\u001b[39;49m\u001b[38;5;241;43m.\u001b[39;49m\u001b[43m_generate_with_cache\u001b[49m\u001b[43m(\u001b[49m\n\u001b[0;32m    525\u001b[0m \u001b[43m                \u001b[49m\u001b[43mm\u001b[49m\u001b[43m,\u001b[49m\n\u001b[0;32m    526\u001b[0m \u001b[43m                \u001b[49m\u001b[43mstop\u001b[49m\u001b[38;5;241;43m=\u001b[39;49m\u001b[43mstop\u001b[49m\u001b[43m,\u001b[49m\n\u001b[0;32m    527\u001b[0m \u001b[43m                \u001b[49m\u001b[43mrun_manager\u001b[49m\u001b[38;5;241;43m=\u001b[39;49m\u001b[43mrun_managers\u001b[49m\u001b[43m[\u001b[49m\u001b[43mi\u001b[49m\u001b[43m]\u001b[49m\u001b[43m \u001b[49m\u001b[38;5;28;43;01mif\u001b[39;49;00m\u001b[43m \u001b[49m\u001b[43mrun_managers\u001b[49m\u001b[43m \u001b[49m\u001b[38;5;28;43;01melse\u001b[39;49;00m\u001b[43m \u001b[49m\u001b[38;5;28;43;01mNone\u001b[39;49;00m\u001b[43m,\u001b[49m\n\u001b[0;32m    528\u001b[0m \u001b[43m                \u001b[49m\u001b[38;5;241;43m*\u001b[39;49m\u001b[38;5;241;43m*\u001b[39;49m\u001b[43mkwargs\u001b[49m\u001b[43m,\u001b[49m\n\u001b[0;32m    529\u001b[0m \u001b[43m            \u001b[49m\u001b[43m)\u001b[49m\n\u001b[0;32m    530\u001b[0m         )\n\u001b[0;32m    531\u001b[0m     \u001b[38;5;28;01mexcept\u001b[39;00m \u001b[38;5;167;01mBaseException\u001b[39;00m \u001b[38;5;28;01mas\u001b[39;00m e:\n\u001b[0;32m    532\u001b[0m         \u001b[38;5;28;01mif\u001b[39;00m run_managers:\n",
      "File \u001b[1;32md:\\Documnets\\ML\\LLM\\New-multimodel-pdf-llm\\env\\Lib\\site-packages\\langchain_core\\language_models\\chat_models.py:749\u001b[0m, in \u001b[0;36mBaseChatModel._generate_with_cache\u001b[1;34m(self, messages, stop, run_manager, **kwargs)\u001b[0m\n\u001b[0;32m    747\u001b[0m \u001b[38;5;28;01melse\u001b[39;00m:\n\u001b[0;32m    748\u001b[0m     \u001b[38;5;28;01mif\u001b[39;00m inspect\u001b[38;5;241m.\u001b[39msignature(\u001b[38;5;28mself\u001b[39m\u001b[38;5;241m.\u001b[39m_generate)\u001b[38;5;241m.\u001b[39mparameters\u001b[38;5;241m.\u001b[39mget(\u001b[38;5;124m\"\u001b[39m\u001b[38;5;124mrun_manager\u001b[39m\u001b[38;5;124m\"\u001b[39m):\n\u001b[1;32m--> 749\u001b[0m         result \u001b[38;5;241m=\u001b[39m \u001b[38;5;28;43mself\u001b[39;49m\u001b[38;5;241;43m.\u001b[39;49m\u001b[43m_generate\u001b[49m\u001b[43m(\u001b[49m\n\u001b[0;32m    750\u001b[0m \u001b[43m            \u001b[49m\u001b[43mmessages\u001b[49m\u001b[43m,\u001b[49m\u001b[43m \u001b[49m\u001b[43mstop\u001b[49m\u001b[38;5;241;43m=\u001b[39;49m\u001b[43mstop\u001b[49m\u001b[43m,\u001b[49m\u001b[43m \u001b[49m\u001b[43mrun_manager\u001b[49m\u001b[38;5;241;43m=\u001b[39;49m\u001b[43mrun_manager\u001b[49m\u001b[43m,\u001b[49m\u001b[43m \u001b[49m\u001b[38;5;241;43m*\u001b[39;49m\u001b[38;5;241;43m*\u001b[39;49m\u001b[43mkwargs\u001b[49m\n\u001b[0;32m    751\u001b[0m \u001b[43m        \u001b[49m\u001b[43m)\u001b[49m\n\u001b[0;32m    752\u001b[0m     \u001b[38;5;28;01melse\u001b[39;00m:\n\u001b[0;32m    753\u001b[0m         result \u001b[38;5;241m=\u001b[39m \u001b[38;5;28mself\u001b[39m\u001b[38;5;241m.\u001b[39m_generate(messages, stop\u001b[38;5;241m=\u001b[39mstop, \u001b[38;5;241m*\u001b[39m\u001b[38;5;241m*\u001b[39mkwargs)\n",
      "File \u001b[1;32md:\\Documnets\\ML\\LLM\\New-multimodel-pdf-llm\\env\\Lib\\site-packages\\langchain_community\\chat_models\\openai.py:442\u001b[0m, in \u001b[0;36mChatOpenAI._generate\u001b[1;34m(self, messages, stop, run_manager, stream, **kwargs)\u001b[0m\n\u001b[0;32m    436\u001b[0m message_dicts, params \u001b[38;5;241m=\u001b[39m \u001b[38;5;28mself\u001b[39m\u001b[38;5;241m.\u001b[39m_create_message_dicts(messages, stop)\n\u001b[0;32m    437\u001b[0m params \u001b[38;5;241m=\u001b[39m {\n\u001b[0;32m    438\u001b[0m     \u001b[38;5;241m*\u001b[39m\u001b[38;5;241m*\u001b[39mparams,\n\u001b[0;32m    439\u001b[0m     \u001b[38;5;241m*\u001b[39m\u001b[38;5;241m*\u001b[39m({\u001b[38;5;124m\"\u001b[39m\u001b[38;5;124mstream\u001b[39m\u001b[38;5;124m\"\u001b[39m: stream} \u001b[38;5;28;01mif\u001b[39;00m stream \u001b[38;5;129;01mis\u001b[39;00m \u001b[38;5;129;01mnot\u001b[39;00m \u001b[38;5;28;01mNone\u001b[39;00m \u001b[38;5;28;01melse\u001b[39;00m {}),\n\u001b[0;32m    440\u001b[0m     \u001b[38;5;241m*\u001b[39m\u001b[38;5;241m*\u001b[39mkwargs,\n\u001b[0;32m    441\u001b[0m }\n\u001b[1;32m--> 442\u001b[0m response \u001b[38;5;241m=\u001b[39m \u001b[38;5;28;43mself\u001b[39;49m\u001b[38;5;241;43m.\u001b[39;49m\u001b[43mcompletion_with_retry\u001b[49m\u001b[43m(\u001b[49m\n\u001b[0;32m    443\u001b[0m \u001b[43m    \u001b[49m\u001b[43mmessages\u001b[49m\u001b[38;5;241;43m=\u001b[39;49m\u001b[43mmessage_dicts\u001b[49m\u001b[43m,\u001b[49m\u001b[43m \u001b[49m\u001b[43mrun_manager\u001b[49m\u001b[38;5;241;43m=\u001b[39;49m\u001b[43mrun_manager\u001b[49m\u001b[43m,\u001b[49m\u001b[43m \u001b[49m\u001b[38;5;241;43m*\u001b[39;49m\u001b[38;5;241;43m*\u001b[39;49m\u001b[43mparams\u001b[49m\n\u001b[0;32m    444\u001b[0m \u001b[43m\u001b[49m\u001b[43m)\u001b[49m\n\u001b[0;32m    445\u001b[0m \u001b[38;5;28;01mreturn\u001b[39;00m \u001b[38;5;28mself\u001b[39m\u001b[38;5;241m.\u001b[39m_create_chat_result(response)\n",
      "File \u001b[1;32md:\\Documnets\\ML\\LLM\\New-multimodel-pdf-llm\\env\\Lib\\site-packages\\langchain_community\\chat_models\\openai.py:357\u001b[0m, in \u001b[0;36mChatOpenAI.completion_with_retry\u001b[1;34m(self, run_manager, **kwargs)\u001b[0m\n\u001b[0;32m    355\u001b[0m \u001b[38;5;250m\u001b[39m\u001b[38;5;124;03m\"\"\"Use tenacity to retry the completion call.\"\"\"\u001b[39;00m\n\u001b[0;32m    356\u001b[0m \u001b[38;5;28;01mif\u001b[39;00m is_openai_v1():\n\u001b[1;32m--> 357\u001b[0m     \u001b[38;5;28;01mreturn\u001b[39;00m \u001b[38;5;28;43mself\u001b[39;49m\u001b[38;5;241;43m.\u001b[39;49m\u001b[43mclient\u001b[49m\u001b[38;5;241;43m.\u001b[39;49m\u001b[43mcreate\u001b[49m\u001b[43m(\u001b[49m\u001b[38;5;241;43m*\u001b[39;49m\u001b[38;5;241;43m*\u001b[39;49m\u001b[43mkwargs\u001b[49m\u001b[43m)\u001b[49m\n\u001b[0;32m    359\u001b[0m retry_decorator \u001b[38;5;241m=\u001b[39m _create_retry_decorator(\u001b[38;5;28mself\u001b[39m, run_manager\u001b[38;5;241m=\u001b[39mrun_manager)\n\u001b[0;32m    361\u001b[0m \u001b[38;5;129m@retry_decorator\u001b[39m\n\u001b[0;32m    362\u001b[0m \u001b[38;5;28;01mdef\u001b[39;00m \u001b[38;5;21m_completion_with_retry\u001b[39m(\u001b[38;5;241m*\u001b[39m\u001b[38;5;241m*\u001b[39mkwargs: Any) \u001b[38;5;241m-\u001b[39m\u001b[38;5;241m>\u001b[39m Any:\n",
      "File \u001b[1;32md:\\Documnets\\ML\\LLM\\New-multimodel-pdf-llm\\env\\Lib\\site-packages\\openai\\_utils\\_utils.py:277\u001b[0m, in \u001b[0;36mrequired_args.<locals>.inner.<locals>.wrapper\u001b[1;34m(*args, **kwargs)\u001b[0m\n\u001b[0;32m    275\u001b[0m             msg \u001b[38;5;241m=\u001b[39m \u001b[38;5;124mf\u001b[39m\u001b[38;5;124m\"\u001b[39m\u001b[38;5;124mMissing required argument: \u001b[39m\u001b[38;5;132;01m{\u001b[39;00mquote(missing[\u001b[38;5;241m0\u001b[39m])\u001b[38;5;132;01m}\u001b[39;00m\u001b[38;5;124m\"\u001b[39m\n\u001b[0;32m    276\u001b[0m     \u001b[38;5;28;01mraise\u001b[39;00m \u001b[38;5;167;01mTypeError\u001b[39;00m(msg)\n\u001b[1;32m--> 277\u001b[0m \u001b[38;5;28;01mreturn\u001b[39;00m \u001b[43mfunc\u001b[49m\u001b[43m(\u001b[49m\u001b[38;5;241;43m*\u001b[39;49m\u001b[43margs\u001b[49m\u001b[43m,\u001b[49m\u001b[43m \u001b[49m\u001b[38;5;241;43m*\u001b[39;49m\u001b[38;5;241;43m*\u001b[39;49m\u001b[43mkwargs\u001b[49m\u001b[43m)\u001b[49m\n",
      "File \u001b[1;32md:\\Documnets\\ML\\LLM\\New-multimodel-pdf-llm\\env\\Lib\\site-packages\\openai\\resources\\chat\\completions.py:643\u001b[0m, in \u001b[0;36mCompletions.create\u001b[1;34m(self, messages, model, frequency_penalty, function_call, functions, logit_bias, logprobs, max_tokens, n, parallel_tool_calls, presence_penalty, response_format, seed, service_tier, stop, stream, stream_options, temperature, tool_choice, tools, top_logprobs, top_p, user, extra_headers, extra_query, extra_body, timeout)\u001b[0m\n\u001b[0;32m    609\u001b[0m \u001b[38;5;129m@required_args\u001b[39m([\u001b[38;5;124m\"\u001b[39m\u001b[38;5;124mmessages\u001b[39m\u001b[38;5;124m\"\u001b[39m, \u001b[38;5;124m\"\u001b[39m\u001b[38;5;124mmodel\u001b[39m\u001b[38;5;124m\"\u001b[39m], [\u001b[38;5;124m\"\u001b[39m\u001b[38;5;124mmessages\u001b[39m\u001b[38;5;124m\"\u001b[39m, \u001b[38;5;124m\"\u001b[39m\u001b[38;5;124mmodel\u001b[39m\u001b[38;5;124m\"\u001b[39m, \u001b[38;5;124m\"\u001b[39m\u001b[38;5;124mstream\u001b[39m\u001b[38;5;124m\"\u001b[39m])\n\u001b[0;32m    610\u001b[0m \u001b[38;5;28;01mdef\u001b[39;00m \u001b[38;5;21mcreate\u001b[39m(\n\u001b[0;32m    611\u001b[0m     \u001b[38;5;28mself\u001b[39m,\n\u001b[1;32m   (...)\u001b[0m\n\u001b[0;32m    641\u001b[0m     timeout: \u001b[38;5;28mfloat\u001b[39m \u001b[38;5;241m|\u001b[39m httpx\u001b[38;5;241m.\u001b[39mTimeout \u001b[38;5;241m|\u001b[39m \u001b[38;5;28;01mNone\u001b[39;00m \u001b[38;5;241m|\u001b[39m NotGiven \u001b[38;5;241m=\u001b[39m NOT_GIVEN,\n\u001b[0;32m    642\u001b[0m ) \u001b[38;5;241m-\u001b[39m\u001b[38;5;241m>\u001b[39m ChatCompletion \u001b[38;5;241m|\u001b[39m Stream[ChatCompletionChunk]:\n\u001b[1;32m--> 643\u001b[0m     \u001b[38;5;28;01mreturn\u001b[39;00m \u001b[38;5;28;43mself\u001b[39;49m\u001b[38;5;241;43m.\u001b[39;49m\u001b[43m_post\u001b[49m\u001b[43m(\u001b[49m\n\u001b[0;32m    644\u001b[0m \u001b[43m        \u001b[49m\u001b[38;5;124;43m\"\u001b[39;49m\u001b[38;5;124;43m/chat/completions\u001b[39;49m\u001b[38;5;124;43m\"\u001b[39;49m\u001b[43m,\u001b[49m\n\u001b[0;32m    645\u001b[0m \u001b[43m        \u001b[49m\u001b[43mbody\u001b[49m\u001b[38;5;241;43m=\u001b[39;49m\u001b[43mmaybe_transform\u001b[49m\u001b[43m(\u001b[49m\n\u001b[0;32m    646\u001b[0m \u001b[43m            \u001b[49m\u001b[43m{\u001b[49m\n\u001b[0;32m    647\u001b[0m \u001b[43m                \u001b[49m\u001b[38;5;124;43m\"\u001b[39;49m\u001b[38;5;124;43mmessages\u001b[39;49m\u001b[38;5;124;43m\"\u001b[39;49m\u001b[43m:\u001b[49m\u001b[43m \u001b[49m\u001b[43mmessages\u001b[49m\u001b[43m,\u001b[49m\n\u001b[0;32m    648\u001b[0m \u001b[43m                \u001b[49m\u001b[38;5;124;43m\"\u001b[39;49m\u001b[38;5;124;43mmodel\u001b[39;49m\u001b[38;5;124;43m\"\u001b[39;49m\u001b[43m:\u001b[49m\u001b[43m \u001b[49m\u001b[43mmodel\u001b[49m\u001b[43m,\u001b[49m\n\u001b[0;32m    649\u001b[0m \u001b[43m                \u001b[49m\u001b[38;5;124;43m\"\u001b[39;49m\u001b[38;5;124;43mfrequency_penalty\u001b[39;49m\u001b[38;5;124;43m\"\u001b[39;49m\u001b[43m:\u001b[49m\u001b[43m \u001b[49m\u001b[43mfrequency_penalty\u001b[49m\u001b[43m,\u001b[49m\n\u001b[0;32m    650\u001b[0m \u001b[43m                \u001b[49m\u001b[38;5;124;43m\"\u001b[39;49m\u001b[38;5;124;43mfunction_call\u001b[39;49m\u001b[38;5;124;43m\"\u001b[39;49m\u001b[43m:\u001b[49m\u001b[43m \u001b[49m\u001b[43mfunction_call\u001b[49m\u001b[43m,\u001b[49m\n\u001b[0;32m    651\u001b[0m \u001b[43m                \u001b[49m\u001b[38;5;124;43m\"\u001b[39;49m\u001b[38;5;124;43mfunctions\u001b[39;49m\u001b[38;5;124;43m\"\u001b[39;49m\u001b[43m:\u001b[49m\u001b[43m \u001b[49m\u001b[43mfunctions\u001b[49m\u001b[43m,\u001b[49m\n\u001b[0;32m    652\u001b[0m \u001b[43m                \u001b[49m\u001b[38;5;124;43m\"\u001b[39;49m\u001b[38;5;124;43mlogit_bias\u001b[39;49m\u001b[38;5;124;43m\"\u001b[39;49m\u001b[43m:\u001b[49m\u001b[43m \u001b[49m\u001b[43mlogit_bias\u001b[49m\u001b[43m,\u001b[49m\n\u001b[0;32m    653\u001b[0m \u001b[43m                \u001b[49m\u001b[38;5;124;43m\"\u001b[39;49m\u001b[38;5;124;43mlogprobs\u001b[39;49m\u001b[38;5;124;43m\"\u001b[39;49m\u001b[43m:\u001b[49m\u001b[43m \u001b[49m\u001b[43mlogprobs\u001b[49m\u001b[43m,\u001b[49m\n\u001b[0;32m    654\u001b[0m \u001b[43m                \u001b[49m\u001b[38;5;124;43m\"\u001b[39;49m\u001b[38;5;124;43mmax_tokens\u001b[39;49m\u001b[38;5;124;43m\"\u001b[39;49m\u001b[43m:\u001b[49m\u001b[43m \u001b[49m\u001b[43mmax_tokens\u001b[49m\u001b[43m,\u001b[49m\n\u001b[0;32m    655\u001b[0m \u001b[43m                \u001b[49m\u001b[38;5;124;43m\"\u001b[39;49m\u001b[38;5;124;43mn\u001b[39;49m\u001b[38;5;124;43m\"\u001b[39;49m\u001b[43m:\u001b[49m\u001b[43m \u001b[49m\u001b[43mn\u001b[49m\u001b[43m,\u001b[49m\n\u001b[0;32m    656\u001b[0m \u001b[43m                \u001b[49m\u001b[38;5;124;43m\"\u001b[39;49m\u001b[38;5;124;43mparallel_tool_calls\u001b[39;49m\u001b[38;5;124;43m\"\u001b[39;49m\u001b[43m:\u001b[49m\u001b[43m \u001b[49m\u001b[43mparallel_tool_calls\u001b[49m\u001b[43m,\u001b[49m\n\u001b[0;32m    657\u001b[0m \u001b[43m                \u001b[49m\u001b[38;5;124;43m\"\u001b[39;49m\u001b[38;5;124;43mpresence_penalty\u001b[39;49m\u001b[38;5;124;43m\"\u001b[39;49m\u001b[43m:\u001b[49m\u001b[43m \u001b[49m\u001b[43mpresence_penalty\u001b[49m\u001b[43m,\u001b[49m\n\u001b[0;32m    658\u001b[0m \u001b[43m                \u001b[49m\u001b[38;5;124;43m\"\u001b[39;49m\u001b[38;5;124;43mresponse_format\u001b[39;49m\u001b[38;5;124;43m\"\u001b[39;49m\u001b[43m:\u001b[49m\u001b[43m \u001b[49m\u001b[43mresponse_format\u001b[49m\u001b[43m,\u001b[49m\n\u001b[0;32m    659\u001b[0m \u001b[43m                \u001b[49m\u001b[38;5;124;43m\"\u001b[39;49m\u001b[38;5;124;43mseed\u001b[39;49m\u001b[38;5;124;43m\"\u001b[39;49m\u001b[43m:\u001b[49m\u001b[43m \u001b[49m\u001b[43mseed\u001b[49m\u001b[43m,\u001b[49m\n\u001b[0;32m    660\u001b[0m \u001b[43m                \u001b[49m\u001b[38;5;124;43m\"\u001b[39;49m\u001b[38;5;124;43mservice_tier\u001b[39;49m\u001b[38;5;124;43m\"\u001b[39;49m\u001b[43m:\u001b[49m\u001b[43m \u001b[49m\u001b[43mservice_tier\u001b[49m\u001b[43m,\u001b[49m\n\u001b[0;32m    661\u001b[0m \u001b[43m                \u001b[49m\u001b[38;5;124;43m\"\u001b[39;49m\u001b[38;5;124;43mstop\u001b[39;49m\u001b[38;5;124;43m\"\u001b[39;49m\u001b[43m:\u001b[49m\u001b[43m \u001b[49m\u001b[43mstop\u001b[49m\u001b[43m,\u001b[49m\n\u001b[0;32m    662\u001b[0m \u001b[43m                \u001b[49m\u001b[38;5;124;43m\"\u001b[39;49m\u001b[38;5;124;43mstream\u001b[39;49m\u001b[38;5;124;43m\"\u001b[39;49m\u001b[43m:\u001b[49m\u001b[43m \u001b[49m\u001b[43mstream\u001b[49m\u001b[43m,\u001b[49m\n\u001b[0;32m    663\u001b[0m \u001b[43m                \u001b[49m\u001b[38;5;124;43m\"\u001b[39;49m\u001b[38;5;124;43mstream_options\u001b[39;49m\u001b[38;5;124;43m\"\u001b[39;49m\u001b[43m:\u001b[49m\u001b[43m \u001b[49m\u001b[43mstream_options\u001b[49m\u001b[43m,\u001b[49m\n\u001b[0;32m    664\u001b[0m \u001b[43m                \u001b[49m\u001b[38;5;124;43m\"\u001b[39;49m\u001b[38;5;124;43mtemperature\u001b[39;49m\u001b[38;5;124;43m\"\u001b[39;49m\u001b[43m:\u001b[49m\u001b[43m \u001b[49m\u001b[43mtemperature\u001b[49m\u001b[43m,\u001b[49m\n\u001b[0;32m    665\u001b[0m \u001b[43m                \u001b[49m\u001b[38;5;124;43m\"\u001b[39;49m\u001b[38;5;124;43mtool_choice\u001b[39;49m\u001b[38;5;124;43m\"\u001b[39;49m\u001b[43m:\u001b[49m\u001b[43m \u001b[49m\u001b[43mtool_choice\u001b[49m\u001b[43m,\u001b[49m\n\u001b[0;32m    666\u001b[0m \u001b[43m                \u001b[49m\u001b[38;5;124;43m\"\u001b[39;49m\u001b[38;5;124;43mtools\u001b[39;49m\u001b[38;5;124;43m\"\u001b[39;49m\u001b[43m:\u001b[49m\u001b[43m \u001b[49m\u001b[43mtools\u001b[49m\u001b[43m,\u001b[49m\n\u001b[0;32m    667\u001b[0m \u001b[43m                \u001b[49m\u001b[38;5;124;43m\"\u001b[39;49m\u001b[38;5;124;43mtop_logprobs\u001b[39;49m\u001b[38;5;124;43m\"\u001b[39;49m\u001b[43m:\u001b[49m\u001b[43m \u001b[49m\u001b[43mtop_logprobs\u001b[49m\u001b[43m,\u001b[49m\n\u001b[0;32m    668\u001b[0m \u001b[43m                \u001b[49m\u001b[38;5;124;43m\"\u001b[39;49m\u001b[38;5;124;43mtop_p\u001b[39;49m\u001b[38;5;124;43m\"\u001b[39;49m\u001b[43m:\u001b[49m\u001b[43m \u001b[49m\u001b[43mtop_p\u001b[49m\u001b[43m,\u001b[49m\n\u001b[0;32m    669\u001b[0m \u001b[43m                \u001b[49m\u001b[38;5;124;43m\"\u001b[39;49m\u001b[38;5;124;43muser\u001b[39;49m\u001b[38;5;124;43m\"\u001b[39;49m\u001b[43m:\u001b[49m\u001b[43m \u001b[49m\u001b[43muser\u001b[49m\u001b[43m,\u001b[49m\n\u001b[0;32m    670\u001b[0m \u001b[43m            \u001b[49m\u001b[43m}\u001b[49m\u001b[43m,\u001b[49m\n\u001b[0;32m    671\u001b[0m \u001b[43m            \u001b[49m\u001b[43mcompletion_create_params\u001b[49m\u001b[38;5;241;43m.\u001b[39;49m\u001b[43mCompletionCreateParams\u001b[49m\u001b[43m,\u001b[49m\n\u001b[0;32m    672\u001b[0m \u001b[43m        \u001b[49m\u001b[43m)\u001b[49m\u001b[43m,\u001b[49m\n\u001b[0;32m    673\u001b[0m \u001b[43m        \u001b[49m\u001b[43moptions\u001b[49m\u001b[38;5;241;43m=\u001b[39;49m\u001b[43mmake_request_options\u001b[49m\u001b[43m(\u001b[49m\n\u001b[0;32m    674\u001b[0m \u001b[43m            \u001b[49m\u001b[43mextra_headers\u001b[49m\u001b[38;5;241;43m=\u001b[39;49m\u001b[43mextra_headers\u001b[49m\u001b[43m,\u001b[49m\u001b[43m \u001b[49m\u001b[43mextra_query\u001b[49m\u001b[38;5;241;43m=\u001b[39;49m\u001b[43mextra_query\u001b[49m\u001b[43m,\u001b[49m\u001b[43m \u001b[49m\u001b[43mextra_body\u001b[49m\u001b[38;5;241;43m=\u001b[39;49m\u001b[43mextra_body\u001b[49m\u001b[43m,\u001b[49m\u001b[43m \u001b[49m\u001b[43mtimeout\u001b[49m\u001b[38;5;241;43m=\u001b[39;49m\u001b[43mtimeout\u001b[49m\n\u001b[0;32m    675\u001b[0m \u001b[43m        \u001b[49m\u001b[43m)\u001b[49m\u001b[43m,\u001b[49m\n\u001b[0;32m    676\u001b[0m \u001b[43m        \u001b[49m\u001b[43mcast_to\u001b[49m\u001b[38;5;241;43m=\u001b[39;49m\u001b[43mChatCompletion\u001b[49m\u001b[43m,\u001b[49m\n\u001b[0;32m    677\u001b[0m \u001b[43m        \u001b[49m\u001b[43mstream\u001b[49m\u001b[38;5;241;43m=\u001b[39;49m\u001b[43mstream\u001b[49m\u001b[43m \u001b[49m\u001b[38;5;129;43;01mor\u001b[39;49;00m\u001b[43m \u001b[49m\u001b[38;5;28;43;01mFalse\u001b[39;49;00m\u001b[43m,\u001b[49m\n\u001b[0;32m    678\u001b[0m \u001b[43m        \u001b[49m\u001b[43mstream_cls\u001b[49m\u001b[38;5;241;43m=\u001b[39;49m\u001b[43mStream\u001b[49m\u001b[43m[\u001b[49m\u001b[43mChatCompletionChunk\u001b[49m\u001b[43m]\u001b[49m\u001b[43m,\u001b[49m\n\u001b[0;32m    679\u001b[0m \u001b[43m    \u001b[49m\u001b[43m)\u001b[49m\n",
      "File \u001b[1;32md:\\Documnets\\ML\\LLM\\New-multimodel-pdf-llm\\env\\Lib\\site-packages\\openai\\_base_client.py:1250\u001b[0m, in \u001b[0;36mSyncAPIClient.post\u001b[1;34m(self, path, cast_to, body, options, files, stream, stream_cls)\u001b[0m\n\u001b[0;32m   1236\u001b[0m \u001b[38;5;28;01mdef\u001b[39;00m \u001b[38;5;21mpost\u001b[39m(\n\u001b[0;32m   1237\u001b[0m     \u001b[38;5;28mself\u001b[39m,\n\u001b[0;32m   1238\u001b[0m     path: \u001b[38;5;28mstr\u001b[39m,\n\u001b[1;32m   (...)\u001b[0m\n\u001b[0;32m   1245\u001b[0m     stream_cls: \u001b[38;5;28mtype\u001b[39m[_StreamT] \u001b[38;5;241m|\u001b[39m \u001b[38;5;28;01mNone\u001b[39;00m \u001b[38;5;241m=\u001b[39m \u001b[38;5;28;01mNone\u001b[39;00m,\n\u001b[0;32m   1246\u001b[0m ) \u001b[38;5;241m-\u001b[39m\u001b[38;5;241m>\u001b[39m ResponseT \u001b[38;5;241m|\u001b[39m _StreamT:\n\u001b[0;32m   1247\u001b[0m     opts \u001b[38;5;241m=\u001b[39m FinalRequestOptions\u001b[38;5;241m.\u001b[39mconstruct(\n\u001b[0;32m   1248\u001b[0m         method\u001b[38;5;241m=\u001b[39m\u001b[38;5;124m\"\u001b[39m\u001b[38;5;124mpost\u001b[39m\u001b[38;5;124m\"\u001b[39m, url\u001b[38;5;241m=\u001b[39mpath, json_data\u001b[38;5;241m=\u001b[39mbody, files\u001b[38;5;241m=\u001b[39mto_httpx_files(files), \u001b[38;5;241m*\u001b[39m\u001b[38;5;241m*\u001b[39moptions\n\u001b[0;32m   1249\u001b[0m     )\n\u001b[1;32m-> 1250\u001b[0m     \u001b[38;5;28;01mreturn\u001b[39;00m cast(ResponseT, \u001b[38;5;28;43mself\u001b[39;49m\u001b[38;5;241;43m.\u001b[39;49m\u001b[43mrequest\u001b[49m\u001b[43m(\u001b[49m\u001b[43mcast_to\u001b[49m\u001b[43m,\u001b[49m\u001b[43m \u001b[49m\u001b[43mopts\u001b[49m\u001b[43m,\u001b[49m\u001b[43m \u001b[49m\u001b[43mstream\u001b[49m\u001b[38;5;241;43m=\u001b[39;49m\u001b[43mstream\u001b[49m\u001b[43m,\u001b[49m\u001b[43m \u001b[49m\u001b[43mstream_cls\u001b[49m\u001b[38;5;241;43m=\u001b[39;49m\u001b[43mstream_cls\u001b[49m\u001b[43m)\u001b[49m)\n",
      "File \u001b[1;32md:\\Documnets\\ML\\LLM\\New-multimodel-pdf-llm\\env\\Lib\\site-packages\\openai\\_base_client.py:931\u001b[0m, in \u001b[0;36mSyncAPIClient.request\u001b[1;34m(self, cast_to, options, remaining_retries, stream, stream_cls)\u001b[0m\n\u001b[0;32m    922\u001b[0m \u001b[38;5;28;01mdef\u001b[39;00m \u001b[38;5;21mrequest\u001b[39m(\n\u001b[0;32m    923\u001b[0m     \u001b[38;5;28mself\u001b[39m,\n\u001b[0;32m    924\u001b[0m     cast_to: Type[ResponseT],\n\u001b[1;32m   (...)\u001b[0m\n\u001b[0;32m    929\u001b[0m     stream_cls: \u001b[38;5;28mtype\u001b[39m[_StreamT] \u001b[38;5;241m|\u001b[39m \u001b[38;5;28;01mNone\u001b[39;00m \u001b[38;5;241m=\u001b[39m \u001b[38;5;28;01mNone\u001b[39;00m,\n\u001b[0;32m    930\u001b[0m ) \u001b[38;5;241m-\u001b[39m\u001b[38;5;241m>\u001b[39m ResponseT \u001b[38;5;241m|\u001b[39m _StreamT:\n\u001b[1;32m--> 931\u001b[0m     \u001b[38;5;28;01mreturn\u001b[39;00m \u001b[38;5;28;43mself\u001b[39;49m\u001b[38;5;241;43m.\u001b[39;49m\u001b[43m_request\u001b[49m\u001b[43m(\u001b[49m\n\u001b[0;32m    932\u001b[0m \u001b[43m        \u001b[49m\u001b[43mcast_to\u001b[49m\u001b[38;5;241;43m=\u001b[39;49m\u001b[43mcast_to\u001b[49m\u001b[43m,\u001b[49m\n\u001b[0;32m    933\u001b[0m \u001b[43m        \u001b[49m\u001b[43moptions\u001b[49m\u001b[38;5;241;43m=\u001b[39;49m\u001b[43moptions\u001b[49m\u001b[43m,\u001b[49m\n\u001b[0;32m    934\u001b[0m \u001b[43m        \u001b[49m\u001b[43mstream\u001b[49m\u001b[38;5;241;43m=\u001b[39;49m\u001b[43mstream\u001b[49m\u001b[43m,\u001b[49m\n\u001b[0;32m    935\u001b[0m \u001b[43m        \u001b[49m\u001b[43mstream_cls\u001b[49m\u001b[38;5;241;43m=\u001b[39;49m\u001b[43mstream_cls\u001b[49m\u001b[43m,\u001b[49m\n\u001b[0;32m    936\u001b[0m \u001b[43m        \u001b[49m\u001b[43mremaining_retries\u001b[49m\u001b[38;5;241;43m=\u001b[39;49m\u001b[43mremaining_retries\u001b[49m\u001b[43m,\u001b[49m\n\u001b[0;32m    937\u001b[0m \u001b[43m    \u001b[49m\u001b[43m)\u001b[49m\n",
      "File \u001b[1;32md:\\Documnets\\ML\\LLM\\New-multimodel-pdf-llm\\env\\Lib\\site-packages\\openai\\_base_client.py:1030\u001b[0m, in \u001b[0;36mSyncAPIClient._request\u001b[1;34m(self, cast_to, options, remaining_retries, stream, stream_cls)\u001b[0m\n\u001b[0;32m   1027\u001b[0m         err\u001b[38;5;241m.\u001b[39mresponse\u001b[38;5;241m.\u001b[39mread()\n\u001b[0;32m   1029\u001b[0m     log\u001b[38;5;241m.\u001b[39mdebug(\u001b[38;5;124m\"\u001b[39m\u001b[38;5;124mRe-raising status error\u001b[39m\u001b[38;5;124m\"\u001b[39m)\n\u001b[1;32m-> 1030\u001b[0m     \u001b[38;5;28;01mraise\u001b[39;00m \u001b[38;5;28mself\u001b[39m\u001b[38;5;241m.\u001b[39m_make_status_error_from_response(err\u001b[38;5;241m.\u001b[39mresponse) \u001b[38;5;28;01mfrom\u001b[39;00m \u001b[38;5;28;01mNone\u001b[39;00m\n\u001b[0;32m   1032\u001b[0m \u001b[38;5;28;01mreturn\u001b[39;00m \u001b[38;5;28mself\u001b[39m\u001b[38;5;241m.\u001b[39m_process_response(\n\u001b[0;32m   1033\u001b[0m     cast_to\u001b[38;5;241m=\u001b[39mcast_to,\n\u001b[0;32m   1034\u001b[0m     options\u001b[38;5;241m=\u001b[39moptions,\n\u001b[1;32m   (...)\u001b[0m\n\u001b[0;32m   1037\u001b[0m     stream_cls\u001b[38;5;241m=\u001b[39mstream_cls,\n\u001b[0;32m   1038\u001b[0m )\n",
      "\u001b[1;31mAuthenticationError\u001b[0m: Error code: 401 - {'error': {'message': 'Incorrect API key provided: sk-proj-********************************************9V6i. You can find your API key at https://platform.openai.com/account/api-keys.', 'type': 'invalid_request_error', 'param': None, 'code': 'invalid_api_key'}}"
     ]
    }
   ],
   "source": [
    "response = summarize_image(encoded_image, text_model)"
   ]
  },
  {
   "cell_type": "code",
   "execution_count": 1,
   "metadata": {},
   "outputs": [
    {
     "name": "stdout",
     "output_type": "stream",
     "text": [
      "Collecting boto3\n",
      "  Obtaining dependency information for boto3 from https://files.pythonhosted.org/packages/33/53/c15e373e6f8057afb0e73a5bd4be85069252d7daa1dc09d21272495e8657/boto3-1.35.31-py3-none-any.whl.metadata\n",
      "  Downloading boto3-1.35.31-py3-none-any.whl.metadata (6.6 kB)\n",
      "Collecting botocore<1.36.0,>=1.35.31 (from boto3)\n",
      "  Obtaining dependency information for botocore<1.36.0,>=1.35.31 from https://files.pythonhosted.org/packages/c7/b8/af6ff2c29315c0be0dcdec98ba42bb699e531bca83fbab1027fee060312e/botocore-1.35.31-py3-none-any.whl.metadata\n",
      "  Downloading botocore-1.35.31-py3-none-any.whl.metadata (5.6 kB)\n",
      "Collecting jmespath<2.0.0,>=0.7.1 (from boto3)\n",
      "  Obtaining dependency information for jmespath<2.0.0,>=0.7.1 from https://files.pythonhosted.org/packages/31/b4/b9b800c45527aadd64d5b442f9b932b00648617eb5d63d2c7a6587b7cafc/jmespath-1.0.1-py3-none-any.whl.metadata\n",
      "  Downloading jmespath-1.0.1-py3-none-any.whl.metadata (7.6 kB)\n",
      "Collecting s3transfer<0.11.0,>=0.10.0 (from boto3)\n",
      "  Obtaining dependency information for s3transfer<0.11.0,>=0.10.0 from https://files.pythonhosted.org/packages/3c/4a/b221409913760d26cf4498b7b1741d510c82d3ad38381984a3ddc135ec66/s3transfer-0.10.2-py3-none-any.whl.metadata\n",
      "  Downloading s3transfer-0.10.2-py3-none-any.whl.metadata (1.7 kB)\n",
      "Requirement already satisfied: python-dateutil<3.0.0,>=2.1 in d:\\documnets\\ml\\llm\\new-multimodel-pdf-llm\\env\\lib\\site-packages (from botocore<1.36.0,>=1.35.31->boto3) (2.9.0.post0)\n",
      "Requirement already satisfied: urllib3!=2.2.0,<3,>=1.25.4 in d:\\documnets\\ml\\llm\\new-multimodel-pdf-llm\\env\\lib\\site-packages (from botocore<1.36.0,>=1.35.31->boto3) (2.2.2)\n",
      "Requirement already satisfied: six>=1.5 in d:\\documnets\\ml\\llm\\new-multimodel-pdf-llm\\env\\lib\\site-packages (from python-dateutil<3.0.0,>=2.1->botocore<1.36.0,>=1.35.31->boto3) (1.16.0)\n",
      "Downloading boto3-1.35.31-py3-none-any.whl (139 kB)\n",
      "   ---------------------------------------- 0.0/139.1 kB ? eta -:--:--\n",
      "   -------- ------------------------------- 30.7/139.1 kB 1.4 MB/s eta 0:00:01\n",
      "   ----------------- --------------------- 61.4/139.1 kB 825.8 kB/s eta 0:00:01\n",
      "   -------------------------- ------------- 92.2/139.1 kB 1.1 MB/s eta 0:00:01\n",
      "   -------------------------------------- 139.1/139.1 kB 920.7 kB/s eta 0:00:00\n",
      "Downloading botocore-1.35.31-py3-none-any.whl (12.6 MB)\n",
      "   ---------------------------------------- 0.0/12.6 MB ? eta -:--:--\n",
      "   ---------------------------------------- 0.1/12.6 MB 2.3 MB/s eta 0:00:06\n",
      "    --------------------------------------- 0.2/12.6 MB 2.4 MB/s eta 0:00:06\n",
      "    --------------------------------------- 0.3/12.6 MB 2.0 MB/s eta 0:00:07\n",
      "   - -------------------------------------- 0.4/12.6 MB 2.3 MB/s eta 0:00:06\n",
      "   - -------------------------------------- 0.5/12.6 MB 2.3 MB/s eta 0:00:06\n",
      "   -- ------------------------------------- 0.6/12.6 MB 2.5 MB/s eta 0:00:05\n",
      "   -- ------------------------------------- 0.7/12.6 MB 2.4 MB/s eta 0:00:06\n",
      "   -- ------------------------------------- 0.9/12.6 MB 2.4 MB/s eta 0:00:05\n",
      "   --- ------------------------------------ 1.0/12.6 MB 2.5 MB/s eta 0:00:05\n",
      "   --- ------------------------------------ 1.1/12.6 MB 2.5 MB/s eta 0:00:05\n",
      "   ---- ----------------------------------- 1.3/12.6 MB 2.5 MB/s eta 0:00:05\n",
      "   ---- ----------------------------------- 1.4/12.6 MB 2.6 MB/s eta 0:00:05\n",
      "   ---- ----------------------------------- 1.5/12.6 MB 2.6 MB/s eta 0:00:05\n",
      "   ----- ---------------------------------- 1.7/12.6 MB 2.7 MB/s eta 0:00:05\n",
      "   ----- ---------------------------------- 1.9/12.6 MB 2.7 MB/s eta 0:00:04\n",
      "   ------ --------------------------------- 2.0/12.6 MB 2.8 MB/s eta 0:00:04\n",
      "   ------ --------------------------------- 2.1/12.6 MB 2.8 MB/s eta 0:00:04\n",
      "   ------- -------------------------------- 2.3/12.6 MB 2.7 MB/s eta 0:00:04\n",
      "   ------- -------------------------------- 2.5/12.6 MB 2.8 MB/s eta 0:00:04\n",
      "   -------- ------------------------------- 2.6/12.6 MB 2.8 MB/s eta 0:00:04\n",
      "   -------- ------------------------------- 2.8/12.6 MB 2.9 MB/s eta 0:00:04\n",
      "   --------- ------------------------------ 3.0/12.6 MB 3.0 MB/s eta 0:00:04\n",
      "   ---------- ----------------------------- 3.2/12.6 MB 3.0 MB/s eta 0:00:04\n",
      "   ---------- ----------------------------- 3.4/12.6 MB 3.0 MB/s eta 0:00:04\n",
      "   ----------- ---------------------------- 3.6/12.6 MB 3.1 MB/s eta 0:00:03\n",
      "   ----------- ---------------------------- 3.7/12.6 MB 3.1 MB/s eta 0:00:03\n",
      "   ------------ --------------------------- 4.0/12.6 MB 3.2 MB/s eta 0:00:03\n",
      "   ------------- -------------------------- 4.2/12.6 MB 3.2 MB/s eta 0:00:03\n",
      "   ------------- -------------------------- 4.4/12.6 MB 3.3 MB/s eta 0:00:03\n",
      "   -------------- ------------------------- 4.6/12.6 MB 3.3 MB/s eta 0:00:03\n",
      "   --------------- ------------------------ 4.8/12.6 MB 3.3 MB/s eta 0:00:03\n",
      "   ---------------- ----------------------- 5.0/12.6 MB 3.4 MB/s eta 0:00:03\n",
      "   ---------------- ----------------------- 5.2/12.6 MB 3.4 MB/s eta 0:00:03\n",
      "   ----------------- ---------------------- 5.4/12.6 MB 3.4 MB/s eta 0:00:03\n",
      "   ----------------- ---------------------- 5.6/12.6 MB 3.4 MB/s eta 0:00:03\n",
      "   ------------------ --------------------- 5.8/12.6 MB 3.4 MB/s eta 0:00:02\n",
      "   ------------------ --------------------- 5.9/12.6 MB 3.5 MB/s eta 0:00:02\n",
      "   ------------------- -------------------- 6.2/12.6 MB 3.5 MB/s eta 0:00:02\n",
      "   -------------------- ------------------- 6.3/12.6 MB 3.5 MB/s eta 0:00:02\n",
      "   -------------------- ------------------- 6.6/12.6 MB 3.5 MB/s eta 0:00:02\n",
      "   --------------------- ------------------ 6.8/12.6 MB 3.6 MB/s eta 0:00:02\n",
      "   ---------------------- ----------------- 7.0/12.6 MB 3.6 MB/s eta 0:00:02\n",
      "   ----------------------- ---------------- 7.3/12.6 MB 3.6 MB/s eta 0:00:02\n",
      "   ----------------------- ---------------- 7.4/12.6 MB 3.6 MB/s eta 0:00:02\n",
      "   ------------------------ --------------- 7.6/12.6 MB 3.6 MB/s eta 0:00:02\n",
      "   ------------------------- -------------- 7.9/12.6 MB 3.7 MB/s eta 0:00:02\n",
      "   ------------------------- -------------- 8.1/12.6 MB 3.7 MB/s eta 0:00:02\n",
      "   -------------------------- ------------- 8.3/12.6 MB 3.7 MB/s eta 0:00:02\n",
      "   --------------------------- ------------ 8.6/12.6 MB 3.7 MB/s eta 0:00:02\n",
      "   ---------------------------- ----------- 8.9/12.6 MB 3.8 MB/s eta 0:00:01\n",
      "   ---------------------------- ----------- 9.1/12.6 MB 3.8 MB/s eta 0:00:01\n",
      "   ----------------------------- ---------- 9.4/12.6 MB 3.8 MB/s eta 0:00:01\n",
      "   ------------------------------ --------- 9.6/12.6 MB 3.9 MB/s eta 0:00:01\n",
      "   ------------------------------- -------- 9.9/12.6 MB 3.9 MB/s eta 0:00:01\n",
      "   ------------------------------- -------- 9.9/12.6 MB 3.9 MB/s eta 0:00:01\n",
      "   ------------------------------- -------- 9.9/12.6 MB 3.8 MB/s eta 0:00:01\n",
      "   ------------------------------- -------- 9.9/12.6 MB 3.8 MB/s eta 0:00:01\n",
      "   ------------------------------- -------- 10.0/12.6 MB 3.7 MB/s eta 0:00:01\n",
      "   -------------------------------- ------- 10.3/12.6 MB 3.7 MB/s eta 0:00:01\n",
      "   -------------------------------- ------- 10.4/12.6 MB 3.7 MB/s eta 0:00:01\n",
      "   --------------------------------- ------ 10.4/12.6 MB 3.7 MB/s eta 0:00:01\n",
      "   --------------------------------- ------ 10.5/12.6 MB 3.7 MB/s eta 0:00:01\n",
      "   --------------------------------- ------ 10.6/12.6 MB 3.6 MB/s eta 0:00:01\n",
      "   --------------------------------- ------ 10.7/12.6 MB 3.6 MB/s eta 0:00:01\n",
      "   --------------------------------- ------ 10.7/12.6 MB 3.6 MB/s eta 0:00:01\n",
      "   --------------------------------- ------ 10.7/12.6 MB 3.6 MB/s eta 0:00:01\n",
      "   --------------------------------- ------ 10.7/12.6 MB 3.6 MB/s eta 0:00:01\n",
      "   --------------------------------- ------ 10.7/12.6 MB 3.6 MB/s eta 0:00:01\n",
      "   ---------------------------------- ----- 10.9/12.6 MB 3.4 MB/s eta 0:00:01\n",
      "   ----------------------------------- ---- 11.1/12.6 MB 3.5 MB/s eta 0:00:01\n",
      "   ----------------------------------- ---- 11.2/12.6 MB 3.5 MB/s eta 0:00:01\n",
      "   ----------------------------------- ---- 11.3/12.6 MB 3.5 MB/s eta 0:00:01\n",
      "   ------------------------------------ --- 11.5/12.6 MB 3.5 MB/s eta 0:00:01\n",
      "   ------------------------------------- -- 11.7/12.6 MB 3.5 MB/s eta 0:00:01\n",
      "   -------------------------------------- - 12.0/12.6 MB 3.6 MB/s eta 0:00:01\n",
      "   -------------------------------------- - 12.2/12.6 MB 3.6 MB/s eta 0:00:01\n",
      "   ---------------------------------------  12.4/12.6 MB 3.7 MB/s eta 0:00:01\n",
      "   ---------------------------------------  12.5/12.6 MB 3.7 MB/s eta 0:00:01\n",
      "   ---------------------------------------  12.6/12.6 MB 3.6 MB/s eta 0:00:01\n",
      "   ---------------------------------------- 12.6/12.6 MB 3.5 MB/s eta 0:00:00\n",
      "Downloading jmespath-1.0.1-py3-none-any.whl (20 kB)\n",
      "Downloading s3transfer-0.10.2-py3-none-any.whl (82 kB)\n",
      "   ---------------------------------------- 0.0/82.7 kB ? eta -:--:--\n",
      "   ---------------------------------------  81.9/82.7 kB 4.8 MB/s eta 0:00:01\n",
      "   ---------------------------------------- 82.7/82.7 kB 1.5 MB/s eta 0:00:00\n",
      "Installing collected packages: jmespath, botocore, s3transfer, boto3\n",
      "Successfully installed boto3-1.35.31 botocore-1.35.31 jmespath-1.0.1 s3transfer-0.10.2\n"
     ]
    },
    {
     "name": "stderr",
     "output_type": "stream",
     "text": [
      "\n",
      "[notice] A new release of pip is available: 23.2.1 -> 24.2\n",
      "[notice] To update, run: python.exe -m pip install --upgrade pip\n"
     ]
    }
   ],
   "source": [
    "!pip install boto3"
   ]
  },
  {
   "cell_type": "code",
   "execution_count": 1,
   "metadata": {},
   "outputs": [],
   "source": [
    "#upload the image and get the url\n",
    "import boto3\n",
    "import botocore\n",
    "import os\n",
    "\n",
    "\n",
    "\n",
    "def upload_to_s3(file_name, bucket, object_name=None):\n",
    "    if object_name is None:\n",
    "        object_name = file_name\n",
    "\n",
    "    s3_client = boto3.client('s3')\n",
    "    try:\n",
    "        response = s3_client.upload_file(file_name, bucket, object_name)\n",
    "    except Exception as e:\n",
    "        print(e)\n",
    "        return False\n",
    "   \n",
    "    return True\n",
    "\n",
    "def download_from_s3(bucket, object_name, file_name):\n",
    "    s3 = boto3.client('s3')\n",
    "    try:\n",
    "        s3.download_file(bucket, object_name, file_name)\n",
    "    except botocore.exceptions.ClientError as e:\n",
    "        if e.response['Error']['Code'] == \"404\":\n",
    "            print(\"The object does not exist.\")\n",
    "        else:\n",
    "            raise\n",
    "\n",
    "def get_url(bucket, object_name):\n",
    "    return f\"https://{bucket}.s3.amazonaws.com/{object_name}\"\n",
    "\n",
    "\n"
   ]
  },
  {
   "cell_type": "code",
   "execution_count": 2,
   "metadata": {},
   "outputs": [
    {
     "data": {
      "text/plain": [
       "True"
      ]
     },
     "execution_count": 2,
     "metadata": {},
     "output_type": "execute_result"
    }
   ],
   "source": [
    "upload_to_s3(\".\\\\images\\\\1a4ac1e572454afcabc53a966f0b6da5figure-6-2.jpg\", \"obotutor\", \"image1.jpeg\")"
   ]
  },
  {
   "cell_type": "code",
   "execution_count": 9,
   "metadata": {},
   "outputs": [
    {
     "data": {
      "text/plain": [
       "'https://obotutor.s3.amazonaws.com/image1.jpeg'"
      ]
     },
     "execution_count": 9,
     "metadata": {},
     "output_type": "execute_result"
    }
   ],
   "source": [
    "get_url(\"obotutor\", \"image1.jpeg\")"
   ]
  },
  {
   "cell_type": "code",
   "execution_count": 3,
   "metadata": {},
   "outputs": [],
   "source": [
    "\n",
    "from langchain.text_splitter import RecursiveCharacterTextSplitter\n",
    "from PyPDF2 import PdfReader\n",
    "\n",
    "def get_pdf_text(pdf):\n",
    "    text = \"\"\n",
    "\n",
    "    pdf_reader = PdfReader(pdf)\n",
    "    for page in pdf_reader.pages:\n",
    "        text += page.extract_text()\n",
    "    return text"
   ]
  },
  {
   "cell_type": "code",
   "execution_count": 4,
   "metadata": {},
   "outputs": [
    {
     "data": {
      "text/plain": [
       "\"Python Operators\\nOperators are special symbols that perform operations on\\nvariables (/python-programming/variables-constants-\\nliterals) and values. For example,\\nRun Code (/python-programming/online-compiler)\\nHere, + is an operator that adds two numbers: 5 and 6.\\nTypes of Python Operators\\nHere's a list of different types of Python operators that we\\nwill learn in this tutorial.\\n\\x00. Arithmetic Operators\\n\\x00. Assignment Operators\\n\\x00. Comparison Operators\\n\\x00. Logical Operators\\n\\x00. Bitwise Operators\\n\\x00. Special Operatorsprint(5 + 6)   # 11\\nThank you for printing our content at www .domain-name.com. Please check back soon for new contents.\\nwww.domain-name.com(h\\x00ps://programiz.pro/learn/master-python?\\nutm_source=sticky-\\nbanner&utm_campaign=programiz&utm_medium=referral)36%\\noffLearn to code solving problems with our\\nhands-on Python course! Try Programiz PRO\\ntoday.\\n(/)\\nSearch tutorials & examplesProgramiz\\nPRO(h\\x00ps://programiz.pro/learn/master-python?\\nutm_source=nav-\\nfloating&utm_campaign=programiz&utm_medium=referral)1. Python Arithmetic Operators\\nArithmetic operators are used to perform mathematical\\noperations like addition, subtraction, multiplication, etc.\\nFor example,\\nsub = 10 - 5 # 5\\nHere, - is an arithmetic operator that subtracts two\\nvalues or variables.\\nOperator Operation Example\\n+ Addition 5 + 2 = 7\\n- Subtraction 4 - 2 = 2\\n* Multiplication 2 * 3 = 6\\n/ Division 4 / 2 = 2\\n// Floor Division 10 // 3 = 3\\n% Modulo 5 % 2 = 1\\n** Power 4 ** 2 = 16  Thank you for printing our content at www .domain-name.com. Please check back soon for new contents.\\nwww.domain-name.com(h\\x00ps://programiz.pro/learn/master-python?\\nutm_source=sticky-\\nbanner&utm_campaign=programiz&utm_medium=referral)36%\\noffLearn to code solving problems with our\\nhands-on Python course! Try Programiz PRO\\ntoday.\\n(/)\\nSearch tutorials & examplesProgramiz\\nPRO(h\\x00ps://programiz.pro/learn/master-python?\\nutm_source=nav-\\nfloating&utm_campaign=programiz&utm_medium=referral)Example 1: Arithmetic Operators in\\nPython\\nRun Code (/python-programming/online-compiler)\\nOutput\\nSum: 9\\nSubtraction: 5\\nMultiplication: 14\\nDivision: 3.5\\nFloor Division: 3\\nModulo: 1\\nPower: 49\\nIn the above example, we have used multiple arithmetic\\noperators,\\n+ to add a and b\\n- to subtract b from a\\n* to multiply a and b\\n/ to divide a by b\\n// to floor divide a by ba = 7\\nb = 2\\n# addition\\nprint ('Sum: ', a + b)  \\n# subtraction\\nprint ('Subtraction: ' , a - b)   \\n# multiplication\\nprint ('Multiplication: ' , a * b)  \\n# division\\nprint ('Division: ' , a / b) \\n# floor division\\nprint ('Floor Division: ' , a // b)\\n# modulo\\nprint ('Modulo: ' , a % b)  \\n# a to the power b\\nprint ('Power: ' , a ** b)   \\nThank you for printing our content at www .domain-name.com. Please check back soon for new contents.\\nwww.domain-name.com(h\\x00ps://programiz.pro/learn/master-python?\\nutm_source=sticky-\\nbanner&utm_campaign=programiz&utm_medium=referral)36%\\noffLearn to code solving problems with our\\nhands-on Python course! Try Programiz PRO\\ntoday.\\n(/)\\nSearch tutorials & examplesProgramiz\\nPRO(h\\x00ps://programiz.pro/learn/master-python?\\nutm_source=nav-\\nfloating&utm_campaign=programiz&utm_medium=referral)% to get the remainder\\n** to get a to the power b\\n2. Python Assignment Operators\\nAssignment operators are used to assign values to\\nvariables. For example,\\n# assign 5 to x \\nx = 5\\nHere, = is an assignment operator that assigns 5 to x.\\nHere's a list of different assignment operators available in\\nPython.\\nOperator Name Example\\n= Assignment Operatora = 7\\n+= Addition Assignmenta += 1 # a = a + 1\\n-= Subtraction Assignmenta -= 3 # a = a - 3\\n*=Multiplication \\nAssignmenta *= 4 # a = a * 4\\n/= Division Assignmenta /= 3 # a = a / 3Thank you for printing our content at www .domain-name.com. Please check back soon for new contents.\\nwww.domain-name.com(h\\x00ps://programiz.pro/learn/master-python?\\nutm_source=sticky-\\nbanner&utm_campaign=programiz&utm_medium=referral)36%\\noffLearn to code solving problems with our\\nhands-on Python course! Try Programiz PRO\\ntoday.\\n(/)\\nSearch tutorials & examplesProgramiz\\nPRO(h\\x00ps://programiz.pro/learn/master-python?\\nutm_source=nav-\\nfloating&utm_campaign=programiz&utm_medium=referral)%= Remainder Assignmenta %= 10 # a = a %  \\n10\\n**= Exponent Assignmenta **= 10 # a = a **  \\n10\\nExample 2: Assignment Operators\\nRun Code (/python-programming/online-compiler)\\nHere, we have used the += operator to assign the sum of\\na and b to a.\\nSimilarly, we can use any other assignment operators as\\nper our needs.\\n3. Python Comparison Operators\\nComparison operators compare two values/variables and\\nreturn a boolean result: True  or False . For example,\\nRun Code (/python-programming/online-compiler)# assign 10 to a\\na = 10\\n# assign 5 to b\\nb = 5 \\n# assign the sum of a and b to a\\na += b      # a = a + b\\nprint(a)\\n# Output: 15\\na = 5\\nb = 2\\nprint (a > b)    # True\\nThank you for printing our content at www .domain-name.com. Please check back soon for new contents.\\nwww.domain-name.com(h\\x00ps://programiz.pro/learn/master-python?\\nutm_source=sticky-\\nbanner&utm_campaign=programiz&utm_medium=referral)36%\\noffLearn to code solving problems with our\\nhands-on Python course! Try Programiz PRO\\ntoday.\\n(/)\\nSearch tutorials & examplesProgramiz\\nPRO(h\\x00ps://programiz.pro/learn/master-python?\\nutm_source=nav-\\nfloating&utm_campaign=programiz&utm_medium=referral)Here, the > comparison operator is used to compare\\nwhether a is greater than b or not.\\nOperator Meaning Example\\n== Is Equal To3 == 5  gives us \\nFalse\\n!= Not Equal To 3 != 5  gives us True\\n> Greater Than 3 > 5  gives us False\\n< Less Than 3 < 5  gives us True\\n>=Greater Than or Equal \\nTo3 >= 5  give us False\\n<= Less Than or Equal To3 <= 5  gives us True\\nExample 3: Comparison Operators\\nRun Code (/python-programming/online-compiler)\\nOutputa = 5\\nb = 2\\n# equal to operator\\nprint('a == b =' , a == b)\\n# not equal to operator\\nprint('a != b =' , a != b)\\n# greater than operator\\nprint('a > b =' , a > b)\\n# less than operator\\nprint('a < b =' , a < b)\\n# greater than or equal to operator\\nprint('a >= b =' , a >= b)\\n# less than or equal to operator\\nprint('a <= b =' , a <= b)\\nThank you for printing our content at www .domain-name.com. Please check back soon for new contents.\\nwww.domain-name.com(h\\x00ps://programiz.pro/learn/master-python?\\nutm_source=sticky-\\nbanner&utm_campaign=programiz&utm_medium=referral)36%\\noffLearn to code solving problems with our\\nhands-on Python course! Try Programiz PRO\\ntoday.\\n(/)\\nSearch tutorials & examplesProgramiz\\nPRO(h\\x00ps://programiz.pro/learn/master-python?\\nutm_source=nav-\\nfloating&utm_campaign=programiz&utm_medium=referral)a == b = False\\na != b = True\\na > b = True\\na < b = False\\na >= b = True\\na <= b = False\\nNote: Comparison operators are used in decision-\\nmaking and loops (/python-programming/looping-\\ntechnique). We'll discuss more of the comparison\\noperator and decision-making in later tutorials.\\n4. Python Logical Operators\\nLogical operators are used to check whether an\\nexpression is True  or False . They are used in decision-\\nmaking. For example,\\nRun Code (/python-programming/online-compiler)\\nHere, and is the logical operator AND. Since both a > 2\\nand b >= 6  are True , the result is True .\\nOperator Example Meaning\\nand a and bLogical AND:\\nTrue  only if both the operands are \\nTrue\\nor a or bLogical OR:\\nTrue  if at least one of the \\noperands is True\\nnot not aLogical NOT:\\nTrue  if the operand is False  and \\nvice-versa.a = 5\\nb = 6\\nprint((a > 2) and (b >= 6))    # True\\nThank you for printing our content at www .domain-name.com. Please check back soon for new contents.\\nwww.domain-name.com(h\\x00ps://programiz.pro/learn/master-python?\\nutm_source=sticky-\\nbanner&utm_campaign=programiz&utm_medium=referral)36%\\noffLearn to code solving problems with our\\nhands-on Python course! Try Programiz PRO\\ntoday.\\n(/)\\nSearch tutorials & examplesProgramiz\\nPRO(h\\x00ps://programiz.pro/learn/master-python?\\nutm_source=nav-\\nfloating&utm_campaign=programiz&utm_medium=referral)Example 4: Logical Operators\\nRun Code (/python-programming/online-compiler)\\nNote: Here is the truth table (/python-\\nprogramming/keyword-list#and_or_not) for these\\nlogical operators.\\n5. Python Bitwise operators\\nBitwise operators act on operands as if they were strings\\nof binary digits. They operate bit by bit, hence the name.\\nFor example, 2 is 10 in binary, and 7 is 111.\\nIn the table below: Let x = 10 (0000 1010  in binary) and\\ny = 4 (0000 0100  in binary)\\nOperator Meaning Example\\n& Bitwise AND x & y = 0 (0000 0000 )\\n| Bitwise OR x | y = 14 (0000 1110 )\\n~ Bitwise NOT ~x = -11 (1111 0101 )\\n^ Bitwise XOR x ^ y = 14 (0000 1110 )\\n>> Bitwise right shi\\x00 x >> 2 = 2 (0000 0010 )\\n<< Bitwise le\\x00 shi\\x00 x 0010 1000)# logical AND\\nprint(True and True)     # True\\nprint(True and False)    # False\\n# logical OR\\nprint(True or False)     # True\\n# logical NOT\\nprint(not True)          # False\\nThank you for printing our content at www .domain-name.com. Please check back soon for new contents.\\nwww.domain-name.com(h\\x00ps://programiz.pro/learn/master-python?\\nutm_source=sticky-\\nbanner&utm_campaign=programiz&utm_medium=referral)36%\\noffLearn to code solving problems with our\\nhands-on Python course! Try Programiz PRO\\ntoday.\\n(/)\\nSearch tutorials & examplesProgramiz\\nPRO(h\\x00ps://programiz.pro/learn/master-python?\\nutm_source=nav-\\nfloating&utm_campaign=programiz&utm_medium=referral)6. Python Special operators\\nPython language offers some special types of operators\\nlike the identity operator and the membership operator.\\nThey are described below with examples.\\nIdentity operators\\nIn Python, is and is not  are used to check if two values\\nare located at the same memory location.\\nIt's important to note that having two variables with equal\\nvalues doesn't necessarily mean they are identical.\\nOperator Meaning Example\\nisTrue  if the operands are \\nidentical (refer to the same object)x is True\\nis notTrue  if the operands are not \\nidentical (do not refer to the same \\nobject)x is not  \\nTrue\\nExample 4: Identity operators in Python\\nRun Code (/python-programming/online-compiler)\\nHere, we see that x1 and y1 are integers of the same\\nvalues, so they are equal as well as identical. The same is\\nthe case with x2 and y2 (strings).\\nBut x3 and y3 are lists. They are equal but not identical.\\nIt is because the interpreter locates them separately in\\nmemory, although they are equal.x1 = 5\\ny1 = 5\\nx2 = 'Hello'\\ny2 = 'Hello'\\nx3 = [1,2,3]\\ny3 = [1,2,3]\\nprint(x1 is not y1)  # prints False\\nprint(x2 is y2)  # prints True\\nprint(x3 is y3)  # prints False\\nThank you for printing our content at www .domain-name.com. Please check back soon for new contents.\\nwww.domain-name.com(h\\x00ps://programiz.pro/learn/master-python?\\nutm_source=sticky-\\nbanner&utm_campaign=programiz&utm_medium=referral)36%\\noffLearn to code solving problems with our\\nhands-on Python course! Try Programiz PRO\\ntoday.\\n(/)\\nSearch tutorials & examplesProgramiz\\nPRO(h\\x00ps://programiz.pro/learn/master-python?\\nutm_source=nav-\\nfloating&utm_campaign=programiz&utm_medium=referral)Membership operators\\nIn Python, in and not in  are the membership operators.\\nThey are used to test whether a value or variable is found\\nin a sequence (string (/python-programming/string), list\\n(/python-programming/list), tuple (/python-\\nprogramming/tuple), set (/python-programming/set) and\\ndictionary (/python-programming/dictionary)).\\nIn a dictionary, we can only test for the presence of a key,\\nnot the value.\\nOperator Meaning Example\\ninTrue  if value/variable is found in \\nthe sequence5 in x\\nnot inTrue  if value/variable is not \\nfound in the sequence5 not in  \\nx\\nExample 5: Membership operators in\\nPython\\nRun Code (/python-programming/online-compiler)\\nOutputmessage = 'Hello world'\\ndict1 = { 1:'a', 2:'b'}\\n# check if 'H' is present in message string\\nprint('H' in message)  # prints True\\n# check if 'hello' is present in message string\\nprint('hello' not in message)  # prints True\\n# check if '1' key is present in dict1\\nprint(1 in dict1)  # prints True\\n# check if 'a' key is present in dict1\\nprint('a' in dict1)  # prints False\\nThank you for printing our content at www .domain-name.com. Please check back soon for new contents.\\nwww.domain-name.com(h\\x00ps://programiz.pro/learn/master-python?\\nutm_source=sticky-\\nbanner&utm_campaign=programiz&utm_medium=referral)36%\\noffLearn to code solving problems with our\\nhands-on Python course! Try Programiz PRO\\ntoday.\\n(/)\\nSearch tutorials & examplesProgramiz\\nPRO(h\\x00ps://programiz.pro/learn/master-python?\\nutm_source=nav-\\nfloating&utm_campaign=programiz&utm_medium=referral)True\\nTrue\\nTrue\\nFalse\\nHere, 'H' is in message , but 'hello'  is not present in\\nmessage  (remember, Python is case-sensitive).\\nSimilarly, 1 is key, and 'a' is the value in dictionary\\ndict1 . Hence, 'a' in y  returns False .\\nAlso Read:\\nPrecedence and Associativity of operators in Python\\n(/python-programming/precedence-associativity)\\nPython Operator Overloading (/python-\\nprogramming/operator-overloading)\\nBefore we wrap up, let’s put your knowledge of Python\\noperators to the test! Can you solve the following\\nchallenge?\\nChallenge:\\nWrite a function to split the restaurant bill among\\nfriends.\\nTake the subtotal of the bill and the number of friends as\\ninputs.Thank you for printing our content at www .domain-name.com. Please check back soon for new contents.\\nwww.domain-name.com(h\\x00ps://programiz.pro/learn/master-python?\\nutm_source=sticky-\\nbanner&utm_campaign=programiz&utm_medium=referral)36%\\noffLearn to code solving problems with our\\nhands-on Python course! Try Programiz PRO\\ntoday.\\n(/)\\nSearch tutorials & examplesProgramiz\\nPRO(h\\x00ps://programiz.pro/learn/master-python?\\nutm_source=nav-\\nfloating&utm_campaign=programiz&utm_medium=referral)Calculate the total bill by adding 20% tax to the subtotal\\nand then divide it by the number of friends.\\nReturn the amount each friend has to pay, rounded off to\\ntwo decimal places.\\nCheck Code\\nVideo: Operators in Python\\nNext Tutorial:\\nPython if...else\\nStatement(/python-programming/if-\\nelif-else)1\\n2def bill_split (amount, friends ):\\n    \\nOper ators in P ython #5 Oper ators in P ython #5Thank you for printing our content at www .domain-name.com. Please check back soon for new contents.\\nwww.domain-name.com(h\\x00ps://programiz.pro/learn/master-python?\\nutm_source=sticky-\\nbanner&utm_campaign=programiz&utm_medium=referral)36%\\noffLearn to code solving problems with our\\nhands-on Python course! Try Programiz PRO\\ntoday.\\n(/)\\nSearch tutorials & examplesProgramiz\\nPRO(h\\x00ps://programiz.pro/learn/master-python?\\nutm_source=nav-\\nfloating&utm_campaign=programiz&utm_medium=referral)Our premium learning platform, created with\\nover a decade of experience.\\nTry Programiz PRO\\n(h\\x00ps://programiz.pro/?\\nutm_source=tutorial-\\nbanner-\\nbo\\x00om&utm_campaign=programiz&utm_medium=referral)Previous Tutorial:\\nPython Basic Input\\nand Output(/python-programming/input-\\noutput-import)\\nShare on:\\n(h\\x00ps://www.facebook.com/sharer/sharer.php?\\nu=h\\x00ps://www.programiz.com/python-\\nprogramming/operators)(h\\x00ps://twi\\x00er.com/intent/tw\\ntext=Check%20this%20amaz\\nprogramming/operators)\\nDid you find this article helpful?\\nRelated Tutorials\\nPython Tutorial\\nPrecedence and Associativity of Operators in Python\\n(/python-programming/precedence-associativity)\\nPython Tutorial\\nPython Operator Overloading\\n(/python-programming/operator-overloading)\\nPython TutorialThank you for printing our content at www .domain-name.com. Please check back soon for new contents.\\nwww.domain-name.com(h\\x00ps://programiz.pro/learn/master-python?\\nutm_source=sticky-\\nbanner&utm_campaign=programiz&utm_medium=referral)36%\\noffLearn to code solving problems with our\\nhands-on Python course! Try Programiz PRO\\ntoday.\\n(/)\\nSearch tutorials & examplesProgramiz\\nPRO(h\\x00ps://programiz.pro/learn/master-python?\\nutm_source=nav-\\nfloating&utm_campaign=programiz&utm_medium=referral)Python if...else Statement\\n(/python-programming/if-elif-else)\\nPython Tutorial\\nPython 3 Tutorial\\n(/python-programming/tutorial)Thank you for printing our content at www .domain-name.com. Please check back soon for new contents.\\nwww.domain-name.com(h\\x00ps://programiz.pro/learn/master-python?\\nutm_source=sticky-\\nbanner&utm_campaign=programiz&utm_medium=referral)36%\\noffLearn to code solving problems with our\\nhands-on Python course! Try Programiz PRO\\ntoday.\\n(/)\\nSearch tutorials & examplesProgramiz\\nPRO(h\\x00ps://programiz.pro/learn/master-python?\\nutm_source=nav-\\nfloating&utm_campaign=programiz&utm_medium=referral)\""
      ]
     },
     "execution_count": 4,
     "metadata": {},
     "output_type": "execute_result"
    }
   ],
   "source": [
    "get_pdf_text(\"saved_pdfs\\copy_Python Operators (With Examples).pdf\")"
   ]
  },
  {
   "cell_type": "code",
   "execution_count": null,
   "metadata": {},
   "outputs": [],
   "source": []
  }
 ],
 "metadata": {
  "kernelspec": {
   "display_name": "env",
   "language": "python",
   "name": "python3"
  },
  "language_info": {
   "codemirror_mode": {
    "name": "ipython",
    "version": 3
   },
   "file_extension": ".py",
   "mimetype": "text/x-python",
   "name": "python",
   "nbconvert_exporter": "python",
   "pygments_lexer": "ipython3",
   "version": "3.11.7"
  }
 },
 "nbformat": 4,
 "nbformat_minor": 2
}
